{
  "cells": [
    {
      "cell_type": "raw",
      "metadata": {},
      "source": [
        "---\n",
        "title: \"Course Preparation\"\n",
        "subtitle: \"Things required before getting an add code\"\n",
        "\n",
        "format:\n",
        "  html:\n",
        "    code-fold: true\n",
        "    code-tools: FALSE\n",
        "    code-copy: true\n",
        "    highlight-style: github\n",
        "---"
      ],
      "id": "57607235"
    },
    {
      "cell_type": "markdown",
      "metadata": {},
      "source": [
        "This course is designed for graduate students with core computational competence and an appropriate data set for analyses to be performed during the course. Before class starts (and add codes are distributed) the following tasks need to be completed.\n",
        "\n",
        "1.  \n",
        "\n",
        "\n",
        "\n",
        "```{bash}\n",
        "test\n",
        "```"
      ],
      "id": "15c7f786"
    }
  ],
  "metadata": {
    "kernelspec": {
      "display_name": "Python 3",
      "language": "python",
      "name": "python3"
    }
  },
  "nbformat": 4,
  "nbformat_minor": 5
}